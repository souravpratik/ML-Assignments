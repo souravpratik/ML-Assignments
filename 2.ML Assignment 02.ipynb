{
 "cells": [
  {
   "cell_type": "markdown",
   "id": "5c3b5048-f60a-4cf1-a770-bf5f6cf806e9",
   "metadata": {},
   "source": [
    "## ML Assignment 02:"
   ]
  },
  {
   "cell_type": "markdown",
   "id": "c51b03c8-2bd0-473e-a4e1-ab5477eda31e",
   "metadata": {},
   "source": [
    "1. What is the concept of human learning? Please give two examples ?\n",
    "\n",
    "Ans: Human learning is the form of learning which requires higher order mental processes like thinking, reasoning, intelligence, etc.We learn different concepts from childhood. For example:\n",
    "\n",
    "Learning through Association - Classical Conditioning.\n",
    "\n",
    "Learning through consequences – Operant Conditioning.\n",
    "\n",
    "Learning through observation – Modeling/Observational Learning."
   ]
  },
  {
   "cell_type": "markdown",
   "id": "f8b6016d-67ab-41e9-a6bf-cbca816f55c6",
   "metadata": {},
   "source": [
    "2. What different forms of human learning are there? Are there any machine learning equivalents ?\n",
    "\n",
    "Ans: Different Forms of ML are as follows :\n",
    "\n",
    "-Artificial Intelligence Learning Theories. Machine Learning. Reinforcement Learning. Supervised Learning. Unsupervised Learning.\n",
    "\n",
    "-ML equivalents like Linear regression, decision trees, random forest and support vector machines are some commonly used techniques that are actually examples of supervised learning."
   ]
  },
  {
   "cell_type": "markdown",
   "id": "70594fde-e14f-4b29-a706-e9e49f1ed583",
   "metadata": {},
   "source": [
    "3. What is machine learning, and how does it work? What are the key responsibilities of machine learning ?\n",
    "\n",
    "Ans: Machine learning is a branch of Artificial intelligence (AI) that teaches computers on how to think in a similar way to how humans do, like by Learning and improving upon past experiences.\n",
    "\n",
    "It works by exploring data and identifying patterns, and involves minimal human intervention.\n",
    "Roles and responsibilities of a machine learning engineer are:\n",
    "\n",
    "-Designing ML systems.\n",
    "\n",
    "-Researching and implementing ML algorithms and tools. Selecting appropriate data sets.\n",
    "\n",
    "-Picking appropriate data representation methods. Identifying differences in data distribution that affects model performance. \n",
    "\n",
    "-Verifying data quality."
   ]
  },
  {
   "cell_type": "markdown",
   "id": "bb2bbc45-eeb6-47f6-878e-35d7f1cbf2ee",
   "metadata": {},
   "source": [
    "4. Define the terms \"penalty\" and \"reward\" in the context of reinforcement learning ?\n",
    "\n",
    "Ans: A Reinforcement Learning Algorithm, which may also be referred to as an agent, learns by interacting with its environment. The agent receives rewards by performing correctly and penalties for performing incorrectly. The agent learns without intervention from a human by maximizing its reward and minimizing its penalty."
   ]
  },
  {
   "cell_type": "markdown",
   "id": "3d76ba02-24c9-4dbf-9ac2-b11859ec3731",
   "metadata": {},
   "source": [
    "5. Explain the term \"learning as a search\" ?\n",
    "\n",
    "Ans: Learning can be viewed as a search through the space of all sentences in a concept description language for a sentence that best describes the data. Alternatively, it can be viewed as a search through all hypotheses in a hypothesis space."
   ]
  },
  {
   "cell_type": "markdown",
   "id": "6f7fc9ed-9843-422c-88a8-23c378e28dd5",
   "metadata": {},
   "source": [
    "6. What are the various goals of machine learning? What is the relationship between these and human learning ?\n",
    "\n",
    "Ans: The Goal of machine learning, closely coupled with the goal of AI, is to achieve a through understanding about the nature of learning process (both human learning and other forms of learning), about the computational aspects of learning behaviors, and to implant the learning capability in computer systems.\n",
    "\n",
    "Humans have the ability to learn, however with the progress in artificial intelligence, machine learning has become a resource which can augment or even replace human learning. Learning does not happen all at once, but it builds upon and is shaped by previous knowledge."
   ]
  },
  {
   "cell_type": "markdown",
   "id": "2eb5063e-46c2-43d9-910a-6bf51c7cf6c9",
   "metadata": {},
   "source": [
    "7. Illustrate the various elements of machine learning using a real-life illustration ?\n",
    "\n",
    "Ans: The Various elements of the the Machine Learning are:\n",
    "\n",
    "-Data\n",
    "\n",
    "-Task\n",
    "\n",
    "-Model\n",
    "\n",
    "-Loss Function\n",
    "\n",
    "-Learning Algorithm\n",
    "\n",
    "-Evaluation"
   ]
  },
  {
   "cell_type": "markdown",
   "id": "7e1c30a1-1991-4be1-960e-74ce1d2ac00c",
   "metadata": {},
   "source": [
    "8. Provide an example of the abstraction method ?\n",
    "\n",
    "Ans: In Machine Learning, Abstraction is supported primarily at the level of modules. This can be justified in two ways: first, Data abstraction is mostly a question of program interfaces and therefore it arises naturally at the point where we have to consider program composition and modules."
   ]
  },
  {
   "cell_type": "markdown",
   "id": "4298d852-dde5-4299-8cad-7ae443e4325e",
   "metadata": {},
   "source": [
    "9. What is the concept of generalization? What function does it play in the machine learning process ?\n",
    "\n",
    "Ans: Generalization refers to your model's ability to adapt properly to new, previously unseen data, drawn from the same distribution as the one used to create the model.\n",
    "\n",
    "In machine learning, generalization is a definition to demonstrate how well is a trained model to classify or forecast unseen data.This issue can result to classify an actual dog image as a cat from the unseen dataset. Therefore, data diversity is very important factor in order to make a good prediction."
   ]
  },
  {
   "cell_type": "markdown",
   "id": "20a1ff1b-d6d1-4d2c-a61e-cfaed1bfcf00",
   "metadata": {},
   "source": [
    "10. What is classification, exactly? What are the main distinctions between classification and regression ?\n",
    "\n",
    "Ans: In Machine Learning, Classification refers to a predictive modeling problem where a class label is predicted for a given example of input data.Classification is the task of predicting a discrete class label. Whereas Regression is the task of predicting a continuous quantity."
   ]
  },
  {
   "cell_type": "markdown",
   "id": "7d823e7d-7298-4b25-8fea-a5b47b2a8127",
   "metadata": {},
   "source": [
    "11. What is regression, and how does it work? Give an example of a real-world problem that was solved using regression ?\n",
    "\n",
    "Ans: Regression is a Supervised Machine Learning technique which is used to predict continuous values. The ultimate goal of a regression algorithm is to plot a best-fit line or a curve between the data.\n",
    "\n",
    "The three main metrics that are used for evaluating the trained regression model are Variance, Bias and Error.\n",
    "\n",
    "A simple linear regression real life example could mean you finding a relationship between the revenue and temperature, with a sample size for revenue as the dependent variable. In case of multiple variable regression, you can find the relationship between temperature, pricing and number of workers to the revenue."
   ]
  },
  {
   "cell_type": "markdown",
   "id": "823a70d6-1614-488e-aa87-db912fdf7436",
   "metadata": {},
   "source": [
    "12. Describe the clustering mechanism in detail ?\n",
    "\n",
    "Ans: Clustering is the task of dividing the population or data points into a number of groups such that data points in the same groups are more similar to other data points in the same group than those in other groups. In simple words, the aim is to segregate groups with similar traits and assign them into clusters."
   ]
  },
  {
   "cell_type": "markdown",
   "id": "294252b2-1fa7-4cf6-8625-5cd2e33dee7e",
   "metadata": {},
   "source": [
    "13. Make brief observations on two of the following topics ?\n",
    "\n",
    "-Machine learning algorithms are used\n",
    "\n",
    "-Studying under supervision\n",
    "\n",
    "-Studying without supervision\n",
    "\n",
    "-Reinforcement learning is a form of learning based on positive reinforcement.\n",
    "\n",
    "Ans: The breif observations on the following two topics is:\n",
    "\n",
    "-Machine learning algorithms are used: At its Most basic, Machine Learning uses programmed algorithms that receive and analyse input data to predict output values within an acceptable range. As new data is fed to these algorithms, they learn and optimise their operations to improve performance, developing intelligence over time.\n",
    "\n",
    "-Studying Under Supervision: In machine learning, there are two important categories- Supervised and Unsupervised learning.Supervised learning, an algorithm learns from a training dataset. We know the correct answers or desired output, the algorithm makes predictions using the given dataset and is corrected by the “supervisor”."
   ]
  },
  {
   "cell_type": "code",
   "execution_count": null,
   "id": "a234a77b-e316-4c29-a6fb-3aee798ca87f",
   "metadata": {},
   "outputs": [],
   "source": []
  }
 ],
 "metadata": {
  "kernelspec": {
   "display_name": "Python 3 (ipykernel)",
   "language": "python",
   "name": "python3"
  },
  "language_info": {
   "codemirror_mode": {
    "name": "ipython",
    "version": 3
   },
   "file_extension": ".py",
   "mimetype": "text/x-python",
   "name": "python",
   "nbconvert_exporter": "python",
   "pygments_lexer": "ipython3",
   "version": "3.10.6"
  }
 },
 "nbformat": 4,
 "nbformat_minor": 5
}
