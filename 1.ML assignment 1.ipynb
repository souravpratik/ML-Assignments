{
 "cells": [
  {
   "cell_type": "markdown",
   "id": "68f5cf22-0dac-4e28-8f08-17eb1acfa726",
   "metadata": {},
   "source": [
    "## ML ASSIGNMENT 01:"
   ]
  },
  {
   "cell_type": "markdown",
   "id": "0ad05330-13b6-4275-b8c6-c5f3981074f4",
   "metadata": {},
   "source": [
    "1. What does one mean by the term \"machine learning\" ?"
   ]
  },
  {
   "cell_type": "markdown",
   "id": "fe1ecee9-b437-4548-9591-6cd91c40dd61",
   "metadata": {},
   "source": [
    " sol:Machine learning Popularly known as ML is a branch of Artificial Intelligence (AI) that allows software applications to become more accurate at predicting outcomes without being explicitly programmed to do so. Machine learning algorithms use historical data as input to predict new output values."
   ]
  },
  {
   "cell_type": "markdown",
   "id": "c50e5e6b-01e2-4029-9478-458a2b184b91",
   "metadata": {},
   "source": [
    "2. Can you think of 4 distinct types of issues where it shines ?"
   ]
  },
  {
   "cell_type": "markdown",
   "id": "f0d06044-36c8-4885-b8d1-a2a26c171830",
   "metadata": {},
   "source": [
    "The following are some of the issues where Machine Learning can be used:\n",
    "\n",
    ".Image Recognition: Image recognition is one of the most common applications of machine learning. It is used to identify objects, persons, places, digital images, etc. The popular use case of image recognition and face detection is Automatic friend tagging suggestion.\n",
    "\n",
    ".Speech Recognition: While using Google, we get an option of Search by voice, it comes under speech recognition, and it's a popular application of Machine Learning. Speech recognition is a process of converting voice instructions into text, and it is also known as Speech to text, or Computer based speech recognition At present, machine learning algorithms are widely used by various applications of speech recognition. Google assistant, Siri, Cortana, and Alexa are using speech recognition technology to follow the voice instructions.\n",
    "\n",
    ".Traffic prediction: It predicts the traffic conditions such as whether traffic is cleared, slow-moving, or heavily congested with the help of two ways: Real Time location of the vehicle form Google Map app and sensors Average time has taken on past days at the same time.\n",
    "\n",
    ".Product recommendations: Machine learning is widely used by various e-commerce and entertainment companies such as Amazon, Netflix, etc., for product recommendation to the user."
   ]
  },
  {
   "cell_type": "markdown",
   "id": "56bb6c8a-610e-417e-93e6-8cc53cfc0f2e",
   "metadata": {},
   "source": [
    "3.What is a labeled training set, and how does it work ?"
   ]
  },
  {
   "cell_type": "markdown",
   "id": "4f8b397d-1e05-47a8-b1d5-45faa849bcd2",
   "metadata": {},
   "source": [
    "Sol: You split up the data containing known response variable values into two pieces. The training set is used to train the algorithm, and then you use the trained model on the test set to predict the response variable values that are already known."
   ]
  },
  {
   "cell_type": "markdown",
   "id": "f0ae899d-1b5f-4be1-a6d1-baefdf16cad0",
   "metadata": {},
   "source": [
    "4.What are the two most important tasks that are supervised ?\n",
    "\n",
    "sol: The two most common supervised learning tasks are Regression and Classification."
   ]
  },
  {
   "cell_type": "markdown",
   "id": "1c718da1-e33e-4d79-b9be-5ecc42f88dbd",
   "metadata": {},
   "source": [
    "5.Can you think of four examples of unsupervised tasks ?\n",
    "\n",
    "Sol: Four common Unsupervised Tasks included Clustering, Visualization, Dimensionality Reduction, and Association Rule Learning."
   ]
  },
  {
   "cell_type": "markdown",
   "id": "c0c7d8fc-9f40-4654-bff5-357ad7ed466c",
   "metadata": {},
   "source": [
    "6.State the machine learning model that would be best to make a robot walk through various unfamiliar terrains ?\n",
    "\n",
    "Ans: The best Machine Learning algorithm to allow a Robot to walk in unfamiliar terrains is Reinforced Learning, where the robot can learn from response of the terrain to optimize itself."
   ]
  },
  {
   "cell_type": "markdown",
   "id": "7329fc55-ce6a-47cb-a8b5-92b5c69446c5",
   "metadata": {},
   "source": [
    "7.Which algorithm will you use to divide your customers into different groups ?\n",
    "\n",
    "Sol: The Best Algorithm to Segment Customers into different groups is either Supervised Learning (if the groups have known labels) or Unsupervised Learning (if there are no group labels)."
   ]
  },
  {
   "cell_type": "markdown",
   "id": "eeaa3c3b-f87a-48b2-b432-61f31aa1f906",
   "metadata": {},
   "source": [
    "8.Will you consider the problem of spam detection to be a supervised or unsupervised learning problem ?\n",
    "\n",
    "Sol: Spam detection is a Supervised Machine Learning problem because the labels are known (spam or no spam)."
   ]
  },
  {
   "cell_type": "markdown",
   "id": "dc5a4f93-92d1-4f5b-b031-c277c7f253fa",
   "metadata": {},
   "source": [
    "9.What is the concept of an online learning system ?\n",
    "\n",
    "Ans: Online learning system is a learning system in which the machine learns continously, as data is given in small streams continuously."
   ]
  },
  {
   "cell_type": "markdown",
   "id": "9b3c80c9-2338-48a9-99ad-ef6aa9a91cff",
   "metadata": {},
   "source": [
    "10.What is out-of-core learning, and how does it differ from core learning ?\n",
    "\n",
    "Ans: Out-of-core learning system is a system that can handle data that cannot fit into your computer memory. It uses online learning system to feed data in small bits."
   ]
  },
  {
   "cell_type": "markdown",
   "id": "cfecd91f-7478-4ca6-83ec-97f13d822415",
   "metadata": {},
   "source": [
    "11.What kind of learning algorithm makes predictions using a similarity measure ?\n",
    "\n",
    "Ans: Learning algorithm that relies on a similarity measure to make predictions is Instance Based Algorithm."
   ]
  },
  {
   "cell_type": "markdown",
   "id": "8499b436-841a-4f0c-82d2-69de0be21efa",
   "metadata": {},
   "source": [
    "12.What's the difference between a model parameter and a hyperparameter in a learning algorithm ?\n",
    "\n",
    "Ans: Model parameter determines how a model will predict given a new instance. Model usually has more than one parameter (i.e. slope of a linear model). Hyperparameter is a parameter for the learning algorithm, not of a model."
   ]
  },
  {
   "cell_type": "markdown",
   "id": "4203ab67-a85a-4fc8-8a46-47c6b9a68780",
   "metadata": {},
   "source": [
    "13.What are the criteria that model-based learning algorithms look for? What is the most popular method they use to achieve success? What method do they use to make predictions ?\n",
    "\n",
    "Ans: Model based learning algorithm search for the optimal value of parameters in a model that will give the best results for the new instances. We often use a cost function or similar to determine what the parameter value has to be in order to minimize the function. The model makes prediction by using the value of the new instance and the parameters in its function."
   ]
  },
  {
   "cell_type": "markdown",
   "id": "46146eac-3597-4d24-86c8-880fb46d261a",
   "metadata": {},
   "source": [
    "14.Can you name four of the most important Machine Learning challenges ?\n",
    "\n",
    "Ans: Four main challenges in Machine Learning include the following:\n",
    "\n",
    "-Overfitting the Data (using a model too complicated)\n",
    "\n",
    "-Underfitting the data (using a simple model)\n",
    "\n",
    "-Lacking in Data\n",
    "\n",
    "-Non Representative Data."
   ]
  },
  {
   "cell_type": "markdown",
   "id": "cdff4b2b-2c76-4677-8e36-a99e5c1a3014",
   "metadata": {},
   "source": [
    "15.What happens if the model performs well on the training data but fails to generalize the results to new situations? Can you think of three different options ?\n",
    "\n",
    "Ans: If the model performs poorly to new instances, then it has overfitted on the training data. To solve this, we can do any of the following three:\n",
    "\n",
    "-Get more data\n",
    "\n",
    "-Implement a simpler model\n",
    "\n",
    "-Eliminate outliers or noise from the existing data set."
   ]
  },
  {
   "cell_type": "markdown",
   "id": "36293679-6957-4039-8a2e-4c47c0fc4df9",
   "metadata": {},
   "source": [
    "16.What exactly is a test set, and why would you need one ?\n",
    "\n",
    "Ans: Test set is a set to test your model (fit using training data) to see how it performs.Test set is necessary to determine how good (or bad) a model performs."
   ]
  },
  {
   "cell_type": "markdown",
   "id": "8e20b4a3-382c-42af-9148-7b1744c5191e",
   "metadata": {},
   "source": [
    "17.What is a validation set's purpose ?\n",
    "\n",
    "Ans: Validation set is a set used to compare between different training models."
   ]
  },
  {
   "cell_type": "markdown",
   "id": "54c77fdd-1b59-4938-8b16-f27c8e4cfec6",
   "metadata": {},
   "source": [
    "18.What precisely is the train-dev kit, when will you need it, how do you put it to use ?\n",
    "\n",
    "Ans: Cross-validation is a tool to compare models without needing a separate validation set. It is preferred over validation set because we can save from breaking of part of the training set to create a validation set, as having more data is valuable regardless."
   ]
  },
  {
   "cell_type": "markdown",
   "id": "d12a4786-3128-46ac-aa73-7523e3626c3d",
   "metadata": {},
   "source": [
    "19.What could go wrong if you use the test set to tune hyperparameters ?\n",
    "\n",
    "Ans: If you tune hyperparameters using the test sets, then it may not perform well on the out-of-sample data because the model is tuned just for that specific set."
   ]
  },
  {
   "cell_type": "code",
   "execution_count": null,
   "id": "03784dd1-4e84-4176-a6b9-2b23f1090fa4",
   "metadata": {},
   "outputs": [],
   "source": []
  }
 ],
 "metadata": {
  "kernelspec": {
   "display_name": "Python 3 (ipykernel)",
   "language": "python",
   "name": "python3"
  },
  "language_info": {
   "codemirror_mode": {
    "name": "ipython",
    "version": 3
   },
   "file_extension": ".py",
   "mimetype": "text/x-python",
   "name": "python",
   "nbconvert_exporter": "python",
   "pygments_lexer": "ipython3",
   "version": "3.10.6"
  }
 },
 "nbformat": 4,
 "nbformat_minor": 5
}
